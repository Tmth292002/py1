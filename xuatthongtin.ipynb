{
 "cells": [
  {
   "cell_type": "code",
   "execution_count": 1,
   "id": "dcaba440",
   "metadata": {},
   "outputs": [
    {
     "name": "stdout",
     "output_type": "stream",
     "text": [
      "Phạm Ngọc Bảo\n"
     ]
    }
   ],
   "source": [
    "print(\"Họ và Tến: Trần Mai Trung Hiếu\")"
   ]
  },
  {
   "cell_type": "code",
   "execution_count": 2,
   "id": "8a89738d",
   "metadata": {},
   "outputs": [
    {
     "name": "stdout",
     "output_type": "stream",
     "text": [
      "Ngày tháng năm sinh: 02/09/2002\n"
     ]
    }
   ],
   "source": [
    "print(\"Ngày tháng năm sinh: 02/09/2002\")"
   ]
  },
  {
   "cell_type": "code",
   "execution_count": null,
   "id": "ebeb7791",
   "metadata": {},
   "outputs": [],
   "source": []
  }
 ],
 "metadata": {
  "kernelspec": {
   "display_name": "Python 3",
   "language": "python",
   "name": "python3"
  },
  "language_info": {
   "codemirror_mode": {
    "name": "ipython",
    "version": 3
   },
   "file_extension": ".py",
   "mimetype": "text/x-python",
   "name": "python",
   "nbconvert_exporter": "python",
   "pygments_lexer": "ipython3",
   "version": "3.8.8"
  }
 },
 "nbformat": 4,
 "nbformat_minor": 5
}
